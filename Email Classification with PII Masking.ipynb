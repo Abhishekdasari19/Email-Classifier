{
 "cells": [
  {
   "cell_type": "code",
   "execution_count": 1,
   "id": "da167e3e",
   "metadata": {},
   "outputs": [],
   "source": [
    "import pandas as pd\n",
    "import re\n",
    "import spacy\n",
    "import json\n",
    "from sklearn.model_selection import train_test_split\n",
    "from sklearn.feature_extraction.text import TfidfVectorizer\n",
    "from sklearn.naive_bayes import MultinomialNB\n",
    "from sklearn.pipeline import Pipeline\n",
    "from sklearn.metrics import classification_report\n"
   ]
  },
  {
   "cell_type": "code",
   "execution_count": 3,
   "id": "0719bf08",
   "metadata": {},
   "outputs": [
    {
     "data": {
      "text/html": [
       "<div>\n",
       "<style scoped>\n",
       "    .dataframe tbody tr th:only-of-type {\n",
       "        vertical-align: middle;\n",
       "    }\n",
       "\n",
       "    .dataframe tbody tr th {\n",
       "        vertical-align: top;\n",
       "    }\n",
       "\n",
       "    .dataframe thead th {\n",
       "        text-align: right;\n",
       "    }\n",
       "</style>\n",
       "<table border=\"1\" class=\"dataframe\">\n",
       "  <thead>\n",
       "    <tr style=\"text-align: right;\">\n",
       "      <th></th>\n",
       "      <th>email</th>\n",
       "      <th>type</th>\n",
       "    </tr>\n",
       "  </thead>\n",
       "  <tbody>\n",
       "    <tr>\n",
       "      <th>0</th>\n",
       "      <td>Subject: Unvorhergesehener Absturz der Datenan...</td>\n",
       "      <td>Incident</td>\n",
       "    </tr>\n",
       "    <tr>\n",
       "      <th>1</th>\n",
       "      <td>Subject: Customer Support Inquiry\\n\\nSeeking i...</td>\n",
       "      <td>Request</td>\n",
       "    </tr>\n",
       "    <tr>\n",
       "      <th>2</th>\n",
       "      <td>Subject: Data Analytics for Investment\\n\\nI am...</td>\n",
       "      <td>Request</td>\n",
       "    </tr>\n",
       "    <tr>\n",
       "      <th>3</th>\n",
       "      <td>Subject: Krankenhaus-Dienstleistung-Problem\\n\\...</td>\n",
       "      <td>Incident</td>\n",
       "    </tr>\n",
       "    <tr>\n",
       "      <th>4</th>\n",
       "      <td>Subject: Security\\n\\nDear Customer Support, I ...</td>\n",
       "      <td>Request</td>\n",
       "    </tr>\n",
       "  </tbody>\n",
       "</table>\n",
       "</div>"
      ],
      "text/plain": [
       "                                               email      type\n",
       "0  Subject: Unvorhergesehener Absturz der Datenan...  Incident\n",
       "1  Subject: Customer Support Inquiry\\n\\nSeeking i...   Request\n",
       "2  Subject: Data Analytics for Investment\\n\\nI am...   Request\n",
       "3  Subject: Krankenhaus-Dienstleistung-Problem\\n\\...  Incident\n",
       "4  Subject: Security\\n\\nDear Customer Support, I ...   Request"
      ]
     },
     "execution_count": 3,
     "metadata": {},
     "output_type": "execute_result"
    }
   ],
   "source": [
    "df = pd.read_csv(\"combined_emails_with_natural_pii.csv\")\n",
    "df.head()\n"
   ]
  },
  {
   "cell_type": "code",
   "execution_count": 4,
   "id": "94adae11",
   "metadata": {},
   "outputs": [],
   "source": [
    "pii_patterns = {\n",
    "    \"full_name\": r\"\\b([A-Z][a-z]+(?:\\s[A-Z][a-z]+)+)\\b\",\n",
    "    \"email\": r\"\\b[A-Za-z0-9._%+-]+@[A-Za-z0-9.-]+\\.[A-Z|a-z]{2,}\\b\",\n",
    "    \"phone_number\": r\"\\b\\d{10}\\b\",\n",
    "    \"dob\": r\"\\b\\d{2}[/-]\\d{2}[/-]\\d{4}\\b\",\n",
    "    \"aadhar_num\": r\"\\b\\d{4} \\d{4} \\d{4}\\b\",\n",
    "    \"credit_debit_no\": r\"\\b\\d{4}[- ]?\\d{4}[- ]?\\d{4}[- ]?\\d{4}\\b\",\n",
    "    \"cvv_no\": r\"\\b\\d{3}\\b\",\n",
    "    \"expiry_no\": r\"\\b(0[1-9]|1[0-2])/?[0-9]{2,4}\\b\"\n",
    "}\n"
   ]
  },
  {
   "cell_type": "code",
   "execution_count": 5,
   "id": "04463299",
   "metadata": {},
   "outputs": [],
   "source": [
    "def mask_pii(text):\n",
    "    masked_text = text\n",
    "    entities = []\n",
    "    \n",
    "    for label, pattern in pii_patterns.items():\n",
    "        for match in re.finditer(pattern, text):\n",
    "            entity_value = match.group()\n",
    "            start, end = match.span()\n",
    "            entities.append({\n",
    "                \"position\": [start, end],\n",
    "                \"classification\": label,\n",
    "                \"entity\": entity_value\n",
    "            })\n",
    "            masked_text = masked_text.replace(entity_value, f\"[{label}]\")\n",
    "    \n",
    "    return masked_text, entities\n"
   ]
  },
  {
   "cell_type": "code",
   "execution_count": 6,
   "id": "8c186e8c",
   "metadata": {},
   "outputs": [],
   "source": [
    "masked_emails = []\n",
    "entities_list = []\n",
    "\n",
    "for email in df[\"email\"]:\n",
    "    masked, entities = mask_pii(email)\n",
    "    masked_emails.append(masked)\n",
    "    entities_list.append(entities)\n",
    "\n",
    "df[\"masked_email\"] = masked_emails\n",
    "df[\"masked_entities\"] = entities_list\n"
   ]
  },
  {
   "cell_type": "code",
   "execution_count": 7,
   "id": "a51436cf",
   "metadata": {},
   "outputs": [],
   "source": [
    "X_train, X_test, y_train, y_test = train_test_split(\n",
    "    df[\"masked_email\"], df[\"type\"], test_size=0.2, random_state=42\n",
    ")\n"
   ]
  },
  {
   "cell_type": "code",
   "execution_count": 8,
   "id": "22a28c12",
   "metadata": {},
   "outputs": [
    {
     "data": {
      "text/html": [
       "<style>#sk-container-id-1 {color: black;}#sk-container-id-1 pre{padding: 0;}#sk-container-id-1 div.sk-toggleable {background-color: white;}#sk-container-id-1 label.sk-toggleable__label {cursor: pointer;display: block;width: 100%;margin-bottom: 0;padding: 0.3em;box-sizing: border-box;text-align: center;}#sk-container-id-1 label.sk-toggleable__label-arrow:before {content: \"▸\";float: left;margin-right: 0.25em;color: #696969;}#sk-container-id-1 label.sk-toggleable__label-arrow:hover:before {color: black;}#sk-container-id-1 div.sk-estimator:hover label.sk-toggleable__label-arrow:before {color: black;}#sk-container-id-1 div.sk-toggleable__content {max-height: 0;max-width: 0;overflow: hidden;text-align: left;background-color: #f0f8ff;}#sk-container-id-1 div.sk-toggleable__content pre {margin: 0.2em;color: black;border-radius: 0.25em;background-color: #f0f8ff;}#sk-container-id-1 input.sk-toggleable__control:checked~div.sk-toggleable__content {max-height: 200px;max-width: 100%;overflow: auto;}#sk-container-id-1 input.sk-toggleable__control:checked~label.sk-toggleable__label-arrow:before {content: \"▾\";}#sk-container-id-1 div.sk-estimator input.sk-toggleable__control:checked~label.sk-toggleable__label {background-color: #d4ebff;}#sk-container-id-1 div.sk-label input.sk-toggleable__control:checked~label.sk-toggleable__label {background-color: #d4ebff;}#sk-container-id-1 input.sk-hidden--visually {border: 0;clip: rect(1px 1px 1px 1px);clip: rect(1px, 1px, 1px, 1px);height: 1px;margin: -1px;overflow: hidden;padding: 0;position: absolute;width: 1px;}#sk-container-id-1 div.sk-estimator {font-family: monospace;background-color: #f0f8ff;border: 1px dotted black;border-radius: 0.25em;box-sizing: border-box;margin-bottom: 0.5em;}#sk-container-id-1 div.sk-estimator:hover {background-color: #d4ebff;}#sk-container-id-1 div.sk-parallel-item::after {content: \"\";width: 100%;border-bottom: 1px solid gray;flex-grow: 1;}#sk-container-id-1 div.sk-label:hover label.sk-toggleable__label {background-color: #d4ebff;}#sk-container-id-1 div.sk-serial::before {content: \"\";position: absolute;border-left: 1px solid gray;box-sizing: border-box;top: 0;bottom: 0;left: 50%;z-index: 0;}#sk-container-id-1 div.sk-serial {display: flex;flex-direction: column;align-items: center;background-color: white;padding-right: 0.2em;padding-left: 0.2em;position: relative;}#sk-container-id-1 div.sk-item {position: relative;z-index: 1;}#sk-container-id-1 div.sk-parallel {display: flex;align-items: stretch;justify-content: center;background-color: white;position: relative;}#sk-container-id-1 div.sk-item::before, #sk-container-id-1 div.sk-parallel-item::before {content: \"\";position: absolute;border-left: 1px solid gray;box-sizing: border-box;top: 0;bottom: 0;left: 50%;z-index: -1;}#sk-container-id-1 div.sk-parallel-item {display: flex;flex-direction: column;z-index: 1;position: relative;background-color: white;}#sk-container-id-1 div.sk-parallel-item:first-child::after {align-self: flex-end;width: 50%;}#sk-container-id-1 div.sk-parallel-item:last-child::after {align-self: flex-start;width: 50%;}#sk-container-id-1 div.sk-parallel-item:only-child::after {width: 0;}#sk-container-id-1 div.sk-dashed-wrapped {border: 1px dashed gray;margin: 0 0.4em 0.5em 0.4em;box-sizing: border-box;padding-bottom: 0.4em;background-color: white;}#sk-container-id-1 div.sk-label label {font-family: monospace;font-weight: bold;display: inline-block;line-height: 1.2em;}#sk-container-id-1 div.sk-label-container {text-align: center;}#sk-container-id-1 div.sk-container {/* jupyter's `normalize.less` sets `[hidden] { display: none; }` but bootstrap.min.css set `[hidden] { display: none !important; }` so we also need the `!important` here to be able to override the default hidden behavior on the sphinx rendered scikit-learn.org. See: https://github.com/scikit-learn/scikit-learn/issues/21755 */display: inline-block !important;position: relative;}#sk-container-id-1 div.sk-text-repr-fallback {display: none;}</style><div id=\"sk-container-id-1\" class=\"sk-top-container\"><div class=\"sk-text-repr-fallback\"><pre>Pipeline(steps=[(&#x27;tfidf&#x27;, TfidfVectorizer()), (&#x27;clf&#x27;, MultinomialNB())])</pre><b>In a Jupyter environment, please rerun this cell to show the HTML representation or trust the notebook. <br />On GitHub, the HTML representation is unable to render, please try loading this page with nbviewer.org.</b></div><div class=\"sk-container\" hidden><div class=\"sk-item sk-dashed-wrapped\"><div class=\"sk-label-container\"><div class=\"sk-label sk-toggleable\"><input class=\"sk-toggleable__control sk-hidden--visually\" id=\"sk-estimator-id-1\" type=\"checkbox\" ><label for=\"sk-estimator-id-1\" class=\"sk-toggleable__label sk-toggleable__label-arrow\">Pipeline</label><div class=\"sk-toggleable__content\"><pre>Pipeline(steps=[(&#x27;tfidf&#x27;, TfidfVectorizer()), (&#x27;clf&#x27;, MultinomialNB())])</pre></div></div></div><div class=\"sk-serial\"><div class=\"sk-item\"><div class=\"sk-estimator sk-toggleable\"><input class=\"sk-toggleable__control sk-hidden--visually\" id=\"sk-estimator-id-2\" type=\"checkbox\" ><label for=\"sk-estimator-id-2\" class=\"sk-toggleable__label sk-toggleable__label-arrow\">TfidfVectorizer</label><div class=\"sk-toggleable__content\"><pre>TfidfVectorizer()</pre></div></div></div><div class=\"sk-item\"><div class=\"sk-estimator sk-toggleable\"><input class=\"sk-toggleable__control sk-hidden--visually\" id=\"sk-estimator-id-3\" type=\"checkbox\" ><label for=\"sk-estimator-id-3\" class=\"sk-toggleable__label sk-toggleable__label-arrow\">MultinomialNB</label><div class=\"sk-toggleable__content\"><pre>MultinomialNB()</pre></div></div></div></div></div></div></div>"
      ],
      "text/plain": [
       "Pipeline(steps=[('tfidf', TfidfVectorizer()), ('clf', MultinomialNB())])"
      ]
     },
     "execution_count": 8,
     "metadata": {},
     "output_type": "execute_result"
    }
   ],
   "source": [
    "clf_pipeline = Pipeline([\n",
    "    (\"tfidf\", TfidfVectorizer()),\n",
    "    (\"clf\", MultinomialNB())\n",
    "])\n",
    "\n",
    "clf_pipeline.fit(X_train, y_train)\n",
    "\n",
    "clf_pipeline = Pipeline([\n",
    "    (\"tfidf\", TfidfVectorizer()),\n",
    "    (\"clf\", MultinomialNB())\n",
    "])\n",
    "\n",
    "clf_pipeline.fit(X_train, y_train)\n"
   ]
  },
  {
   "cell_type": "code",
   "execution_count": 9,
   "id": "e87caa8d",
   "metadata": {},
   "outputs": [
    {
     "name": "stdout",
     "output_type": "stream",
     "text": [
      "              precision    recall  f1-score   support\n",
      "\n",
      "      Change       0.98      0.09      0.16       479\n",
      "    Incident       0.61      0.99      0.75      1920\n",
      "     Problem       0.32      0.01      0.02      1009\n",
      "     Request       0.78      0.91      0.84      1392\n",
      "\n",
      "    accuracy                           0.67      4800\n",
      "   macro avg       0.67      0.50      0.45      4800\n",
      "weighted avg       0.64      0.67      0.57      4800\n",
      "\n"
     ]
    }
   ],
   "source": [
    "y_pred = clf_pipeline.predict(X_test)\n",
    "print(classification_report(y_test, y_pred))\n"
   ]
  },
  {
   "cell_type": "code",
   "execution_count": 10,
   "id": "9f9258d5",
   "metadata": {},
   "outputs": [],
   "source": [
    "def classify_email(email_body):\n",
    "    masked_email, entities = mask_pii(email_body)\n",
    "    category = clf_pipeline.predict([masked_email])[0]\n",
    "    \n",
    "    return {\n",
    "        \"input_email_body\": email_body,\n",
    "        \"list_of_masked_entities\": entities,\n",
    "        \"masked_email\": masked_email,\n",
    "        \"category_of_the_email\": category\n",
    "    }\n"
   ]
  },
  {
   "cell_type": "code",
   "execution_count": 11,
   "id": "3a914a12",
   "metadata": {},
   "outputs": [
    {
     "name": "stdout",
     "output_type": "stream",
     "text": [
      "{\n",
      "  \"input_email_body\": \"Subject: Unvorhergesehener Absturz der Datenanalyse-Plattform\\n\\nDie Datenanalyse-Plattform brach unerwartet ab, da die Speicheroberfl\\u00e4che zu gering war My name is Sophia Rossi.. Ich habe versucht, Laravel 8 und meinen MacBook Pro neu zu starten, aber das Problem beh\\u00e4lt sich bei. Ich ben\\u00f6tige Ihre Unterst\\u00fctzung, um diesen Fehler zu beheben. You can reach me at janesmith@company.com.\",\n",
      "  \"list_of_masked_entities\": [\n",
      "    {\n",
      "      \"position\": [\n",
      "        9,\n",
      "        34\n",
      "      ],\n",
      "      \"classification\": \"full_name\",\n",
      "      \"entity\": \"Unvorhergesehener Absturz\"\n",
      "    },\n",
      "    {\n",
      "      \"position\": [\n",
      "        63,\n",
      "        79\n",
      "      ],\n",
      "      \"classification\": \"full_name\",\n",
      "      \"entity\": \"Die Datenanalyse\"\n",
      "    },\n",
      "    {\n",
      "      \"position\": [\n",
      "        162,\n",
      "        174\n",
      "      ],\n",
      "      \"classification\": \"full_name\",\n",
      "      \"entity\": \"Sophia Rossi\"\n",
      "    },\n",
      "    {\n",
      "      \"position\": [\n",
      "        361,\n",
      "        382\n",
      "      ],\n",
      "      \"classification\": \"email\",\n",
      "      \"entity\": \"janesmith@company.com\"\n",
      "    }\n",
      "  ],\n",
      "  \"masked_email\": \"Subject: [full_name] der Datenanalyse-Plattform\\n\\n[full_name]-Plattform brach unerwartet ab, da die Speicheroberfl\\u00e4che zu gering war My name is [full_name].. Ich habe versucht, Laravel 8 und meinen MacBook Pro neu zu starten, aber das Problem beh\\u00e4lt sich bei. Ich ben\\u00f6tige Ihre Unterst\\u00fctzung, um diesen Fehler zu beheben. You can reach me at [email].\",\n",
      "  \"category_of_the_email\": \"Incident\"\n",
      "}\n"
     ]
    }
   ],
   "source": [
    "sample_email = df[\"email\"].iloc[0]\n",
    "response = classify_email(sample_email)\n",
    "\n",
    "print(json.dumps(response, indent=2))\n"
   ]
  },
  {
   "cell_type": "code",
   "execution_count": null,
   "id": "0e7e43fc",
   "metadata": {},
   "outputs": [],
   "source": []
  }
 ],
 "metadata": {
  "kernelspec": {
   "display_name": "Python 3 (ipykernel)",
   "language": "python",
   "name": "python3"
  },
  "language_info": {
   "codemirror_mode": {
    "name": "ipython",
    "version": 3
   },
   "file_extension": ".py",
   "mimetype": "text/x-python",
   "name": "python",
   "nbconvert_exporter": "python",
   "pygments_lexer": "ipython3",
   "version": "3.11.4"
  }
 },
 "nbformat": 4,
 "nbformat_minor": 5
}
